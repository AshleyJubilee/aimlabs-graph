{
 "cells": [
  {
   "cell_type": "code",
   "execution_count": 3,
   "metadata": {},
   "outputs": [],
   "source": [
    "import pandas as pd\n",
    "import matplotlib as plt\n",
    "import numpy as np\n",
    "import math"
   ]
  },
  {
   "cell_type": "code",
   "execution_count": 117,
   "metadata": {},
   "outputs": [
    {
     "name": "stdout",
     "output_type": "stream",
     "text": [
      "Score: 1182\n",
      "Converted Hits: 22\n",
      "New Hits: 32\n",
      "       Hits  Accuracy\n",
      "Shots                \n",
      "149     149     100.0\n",
      "150     150     100.0\n",
      "151     150      99.3\n",
      "152     150      98.7\n",
      "153     151      98.7\n",
      "154     151      98.1\n",
      "155     151      97.4\n",
      "156     152      97.4\n",
      "157     152      96.8\n",
      "158     152      96.2\n",
      "159     153      96.2\n",
      "160     153      95.6\n",
      "161     153      95.0\n",
      "162     154      95.1\n",
      "163     154      94.5\n",
      "164     154      93.9\n",
      "165     155      93.9\n",
      "166     155      93.4\n",
      "167     155      92.8\n",
      "168     156      92.9\n",
      "169     156      92.3\n",
      "170     156      91.8\n",
      "171     156      91.2\n",
      "172     157      91.3\n",
      "173     157      90.8\n",
      "174     157      90.2\n",
      "175     158      90.3\n",
      "176     158      89.8\n",
      "177     158      89.3\n",
      "178     159      89.3\n",
      "179     159      88.8\n",
      "180     159      88.3\n",
      "181     159      87.8\n",
      "182     160      87.9\n",
      "183     160      87.4\n",
      "184     160      87.0\n",
      "185     161      87.0\n"
     ]
    }
   ],
   "source": [
    "# Global Functions\n",
    "def sqScore(hits, shots, target):\n",
    "    score = round(hits * math.sqrt((hits/shots)*100))\n",
    "    print(f'Score: {score}')\n",
    "    misses = shots - hits\n",
    "    i = 0\n",
    "\n",
    "    # Hits +1\n",
    "    while target > score: \n",
    "        i += 1\n",
    "        score = (hits + i) * math.sqrt(((hits + i)/shots)*100)\n",
    "    else:\n",
    "        print(f'Converted Hits: {i}')    \n",
    "        score = hits * math.sqrt((hits/shots)*100)\n",
    "        i = 0\n",
    "    \n",
    "    # Hits, Shots +1\n",
    "    while target > score: \n",
    "        i += 1\n",
    "        score = (hits + i) * math.sqrt(((hits + i)/(shots + i))*100)\n",
    "    else:\n",
    "        print(f'New Hits: {i}')    \n",
    "        score = hits * math.sqrt((hits/shots)*100)\n",
    "        i = 0\n",
    "\n",
    "    # Shots -1\n",
    "    while target > score: \n",
    "        i += 1\n",
    "        score = (hits) * math.sqrt((hits/(shots - i))*100)\n",
    "        if (shots - i) < hits:\n",
    "            score = hits * math.sqrt((hits/shots)*100)\n",
    "            break\n",
    "    else:\n",
    "        print(f'Fewer Misses: {i}')    \n",
    "        score = hits * math.sqrt((hits/shots)*100)\n",
    "        i = 0\n",
    "\n",
    "    tableShots = [x for x in range(int(target/10), (round(1.25 * (target/10))))]\n",
    "    tableHits = [math.ceil((target/10)**(2/3) * x**(1./3)) for x in tableShots]\n",
    "    \n",
    "    targetTable = pd.DataFrame({\"Hits\": tableHits, \"Shots\": tableShots})\n",
    "    targetTable = targetTable.assign(Accuracy=100 * round(targetTable[\"Hits\"]/targetTable[\"Shots\"], 3)).set_index(\"Shots\")\n",
    "    print(targetTable)\n",
    "\n",
    "sqScore(131, 161, 1490)"
   ]
  }
 ],
 "metadata": {
  "kernelspec": {
   "display_name": "dev",
   "language": "python",
   "name": "python3"
  },
  "language_info": {
   "codemirror_mode": {
    "name": "ipython",
    "version": 3
   },
   "file_extension": ".py",
   "mimetype": "text/x-python",
   "name": "python",
   "nbconvert_exporter": "python",
   "pygments_lexer": "ipython3",
   "version": "3.12.0"
  }
 },
 "nbformat": 4,
 "nbformat_minor": 2
}
